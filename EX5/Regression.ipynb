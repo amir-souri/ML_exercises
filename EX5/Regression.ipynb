{
 "cells": [
  {
   "cell_type": "code",
   "execution_count": 2,
   "metadata": {},
   "outputs": [],
   "source": [
    "import numpy as np\n",
    "from scipy import stats\n",
    "import matplotlib.pyplot as plt"
   ]
  },
  {
   "cell_type": "markdown",
   "metadata": {},
   "source": [
    "# Exercise 5: Generalising regression"
   ]
  },
  {
   "cell_type": "markdown",
   "metadata": {},
   "source": [
    "In this exercise you will generalise regression to $N$th order polynomials and use it to predict the price of a house (in Canadian dollars) based on its lot size (in square feet).\n",
    "\n",
    "Suppose you want to buy a house in the City of Windsor, Canada. You contact a real-estate salesperson to get information about current house prices and receive details on 546 properties sold in Windsor in the last two years. You would like to figure out what the expected cost of a house might be given only the lot size of the house you want to buy. Fortunately, his dataset has only one independent variable (i.e. `lotsize`, the lot size of a property) and one dependent variable (i.e. `price`, the sale price of a house). You will train the dataset using polynomial regression to predict the house prices.\n",
    "\n",
    "A polynomial model of order $N$ is defined by:\n",
    "$$\n",
    "\ty = \\theta_0 + \\theta_1 x + \\theta_2 x^2 + \\dots + \\theta_N x^N,\n",
    "$$\n",
    "in which, the coefficients $\\theta_i$ are the parameters of the model. Notice how the function is linear in the parameters, i.e. if $x$ is fixed, the function is linear. To estimate the parameters $\\theta_i$, you can therefore setup a linear equation and solve for $\\theta$:\n",
    "$$\n",
    "\\begin{bmatrix}\n",
    "    1 & x_1 & x_1^2 & x_1^3 & \\dots & x_1^N \\\\\n",
    "    1 & x_2 & x_2^2 & x_2^3 & \\dots & x_2^N \\\\\n",
    "    1 & x_3 & x_3^2 & x_3^3 & \\dots & x_3^N \\\\\n",
    "    \\vdots & \\vdots & \\vdots & \\vdots & \\ddots & \\vdots \\\\\n",
    "    1 & x_m & x_m^2 & x_m^3 & \\dots & x_m^N\n",
    "\\end{bmatrix}\n",
    "\\times\n",
    "\\begin{bmatrix}\n",
    "    \\theta_0 \\\\\n",
    "    \\theta_1 \\\\\n",
    "    \\theta_2 \\\\\n",
    "    \\theta_3 \\\\\n",
    "    \\vdots \\\\\n",
    "    \\theta_N\n",
    "\\end{bmatrix}\n",
    "=\n",
    "\\begin{bmatrix}\n",
    "    y_1 \\\\\n",
    "    y_2 \\\\\n",
    "    y_3 \\\\\n",
    "    \\vdots \\\\\n",
    "    y_m\n",
    "\\end{bmatrix},\n",
    "$$\n",
    "or more compactly: $A \\theta = y$.\n",
    " \n",
    "The  *cost function* $J(\\theta)$ for linear regression is the mean squared error between the known outputs $y_i$ and the predicted outputs $M_{\\theta}(x_i)$ of the model:\n",
    "\\begin{equation}\n",
    "J(\\theta) = \\frac{1}{m}\\sum_{i=1}^{m}(h_{\\theta}(x_{i})-y_{i})^2\n",
    "\\label{eq:CostFunction}\n",
    "\\end{equation}"
   ]
  },
  {
   "cell_type": "markdown",
   "metadata": {},
   "source": [
    "## 5.1 Data exploration\n",
    "\n",
    "We start by loading the dataset described above:"
   ]
  },
  {
   "cell_type": "code",
   "execution_count": 3,
   "metadata": {},
   "outputs": [],
   "source": [
    "filename = \"./inputs/simple_windsor.csv\"\n",
    "names = [\"lotsize\", \"price\"]\n",
    "dataset = np.loadtxt(filename, delimiter=',', dtype=np.int32)\n",
    "\n",
    "X_full, y_full = dataset.T"
   ]
  },
  {
   "cell_type": "markdown",
   "metadata": {},
   "source": [
    "Let us visualise the data:"
   ]
  },
  {
   "cell_type": "code",
   "execution_count": 4,
   "metadata": {},
   "outputs": [
    {
     "data": {
      "image/png": "[encoded data removed]",
      "text/plain": [
       "<Figure size 432x288 with 1 Axes>"
      ]
     },
     "metadata": {
      "needs_background": "light"
     },
     "output_type": "display_data"
    }
   ],
   "source": [
    "plt.scatter(X_full, y_full)\n",
    "plt.xlabel('Lot size')\n",
    "plt.ylabel('House price');"
   ]
  },
  {
   "cell_type": "markdown",
   "metadata": {},
   "source": [
    "This visualisation already tells us a lot about the usefulnes of the data. Try to answer the following questions to the best of your abilities:\n",
    "\n",
    "### Task (A)\n",
    "1. Notice the large spread in house prices for relatively similar lot sizes. Can you relate this to a real-world phenomenon? In other words, is it realistic to expect that the price of a house is determined solely by the lot size? (- In reality no)\n",
    "2. Can you imagine other factors that might be useful for modelling house prices? (- Location, year, kind)\n",
    "3. Can you think of a method to evaluate how useful a given factor is in predicting the house price?"
   ]
  },
  {
   "cell_type": "markdown",
   "metadata": {},
   "source": [
    "### Splitting into train and test data\n",
    "We use a helper function from the *Scikit Learn* library to split the dataset into $80\\%$ training data and $20\\%$ test data:"
   ]
  },
  {
   "cell_type": "code",
   "execution_count": 5,
   "metadata": {},
   "outputs": [],
   "source": [
    "from sklearn.model_selection import train_test_split\n",
    "\n",
    "X_train, X_test, y_train, y_test = train_test_split(X_full, y_full, test_size=0.2, random_state=42) # TODO"
   ]
  },
  {
   "cell_type": "markdown",
   "metadata": {},
   "source": [
    "## 5.2 Generalising regression\n",
    "First, we need to be able to generate design matrices as described above from a single input vector `X`. We provide the function below for creating design matrices for polynomials of arbitrary order:"
   ]
  },
  {
   "cell_type": "code",
   "execution_count": 6,
   "metadata": {},
   "outputs": [],
   "source": [
    "def get_design_matrix(x, order=1):\n",
    "    \"\"\"\n",
    "    Get the coefficients of polynomial in a least square sense of order N.\n",
    "    \"\"\"\n",
    "    if order < 1 or x.ndim != 1:\n",
    "        return \"fail\"\n",
    "\n",
    "    count = x.shape[0] # size\n",
    "    matrix = np.ones((count, order + 1), np.float64)\n",
    "\n",
    "    for i in range(1, order+1):\n",
    "        matrix[:, i] = np.power(x, i)\n",
    "\n",
    "    return matrix"
   ]
  },
  {
   "cell_type": "markdown",
   "metadata": {},
   "source": [
    "### Task (B)\n",
    "1. **Estimate parameters:** Implement the function `estimate(X, y, order)` below. The function should use `np.linalg.lstsq()` to estimate parameters for the model. Use `get_design_matrix(X, order)` to generate an appropriate design matrix."
   ]
  },
  {
   "cell_type": "code",
   "execution_count": 7,
   "metadata": {},
   "outputs": [],
   "source": [
    "def estimate(X, y, order):\n",
    "    coefficient = get_design_matrix(X, order)\n",
    "    return np.linalg.lstsq(coefficient, y, rcond=None)[0]"
   ]
  },
  {
   "cell_type": "markdown",
   "metadata": {},
   "source": [
    "2. **Model:** Implement the function `linear_model(X, params)` below. It should compute the house price `y` for a given "
   ]
  },
  {
   "cell_type": "code",
   "execution_count": 8,
   "metadata": {},
   "outputs": [],
   "source": [
    "# parameters = estimate(X_train, y_train, 3)\n",
    "# x = get_design_matrix(X_train, 3)\n",
    "# x @ esti               \n",
    "                \n",
    "\n",
    "def linear_model(X, params):\n",
    "    return X @ params\n",
    "    \n",
    "    \n",
    "# linear_model(x, parameters)    \n",
    "    \n"
   ]
  },
  {
   "cell_type": "markdown",
   "metadata": {},
   "source": [
    "3. **Prediction:** The variable `values` contains the integer values between the minimum and maximum lot sizes from the dataset. (A) Estimate parameters from `X_train` and `y_train`. (B) Then calculate the predicted `y`-values for `values` using the estimated parameters. (C) Plot the predicted values as a line-plot."
   ]
  },
  {
   "cell_type": "code",
   "execution_count": 14,
   "metadata": {},
   "outputs": [
    {
     "data": {
      "image/png": "[encoded data removed]",
      "text/plain": [
       "<Figure size 1080x288 with 2 Axes>"
      ]
     },
     "metadata": {
      "needs_background": "light"
     },
     "output_type": "display_data"
    }
   ],
   "source": [
    "values = np.linspace(X_full.min(), X_full.max(), 50)\n",
    "\n",
    "# (A) Estimate parameters\n",
    "parameters_theta = estimate(X_train, y_train,  7) # order 1 =>  linear regression\n",
    "# (B) Evaluate model\n",
    "A = get_design_matrix(values, 7)\n",
    "y_values = linear_model(A, parameters_theta) # predicted y-values for values\n",
    "\n",
    "# Plot training data\n",
    "fix, ax = plt.subplots(1,2, figsize=(15,4))\n",
    "ax[0].scatter(X_train, y_train)\n",
    "\n",
    "# (C) Plot predicted values\n",
    "ax[1].set_ylabel(\"Predicted y-values (price) for values (lot)\")\n",
    "ax[1].set_xlabel(\"values (lot sizes)\")\n",
    "ax[1].plot(values, y_values)\n",
    "plt.show()"
   ]
  },
  {
   "cell_type": "markdown",
   "metadata": {},
   "source": [
    "4. **Increasing orders:** Try to use higher order polynomials in the estimation and prediction code above. You should see the predictions starting to deviate drastically for orders above 3 or 4. Do you have any idea why this happens? *Hint: It has to do with the behavior of floating point numbers at extreme values.*"
   ]
  },
  {
   "cell_type": "markdown",
   "metadata": {},
   "source": [
    "The above problem can be solved simply by normalizing the *lot sizes*. We provide the following functions for easy normalization and unnormalization:"
   ]
  },
  {
   "cell_type": "code",
   "execution_count": 15,
   "metadata": {},
   "outputs": [],
   "source": [
    "def normalized(X):\n",
    "    n = (X - np.min(X_full))/np.max(X_full)\n",
    "    return n\n",
    "\n",
    "def unnormalized(X):\n",
    "    return X*np.max(X_full) + np.min(X_full)"
   ]
  },
  {
   "cell_type": "markdown",
   "metadata": {},
   "source": [
    "5. **Normalization:** Redo the estimation from task B3 above but with normalized values for `X_train`. Plot the results and experiment with different values for the order. "
   ]
  },
  {
   "cell_type": "code",
   "execution_count": 16,
   "metadata": {},
   "outputs": [
    {
     "data": {
      "image/png": "[encoded data removed]",
      "text/plain": [
       "<Figure size 432x288 with 1 Axes>"
      ]
     },
     "metadata": {
      "needs_background": "light"
     },
     "output_type": "display_data"
    }
   ],
   "source": [
    "values = np.linspace(X_full.min(), X_full.max(), 50)\n",
    "\n",
    "# Estimate parameters and predict y-values\n",
    "normalzed_X_train = normalized(X_train)\n",
    "# normalzed_y_train = normalized(y_train)\n",
    "normalzed_values = normalized(values)\n",
    "\n",
    "\n",
    "\n",
    "parameters_theta = estimate(normalzed_X_train, y_train, 7 )\n",
    "A = get_design_matrix(normalzed_values, 7)\n",
    "y_values = linear_model(A, parameters_theta) # predicted y-values for values\n",
    "\n",
    "# plt.scatter(X_train, y_train, c=\"g\")\n",
    "\n",
    "# Plot predicted values\n",
    "plt.plot(values, y_values)\n",
    "plt.show()\n",
    "\n",
    "# values == values yes"
   ]
  },
  {
   "cell_type": "markdown",
   "metadata": {},
   "source": [
    "## 5.3 Evaluation\n",
    "We now want to evaluate the model using the test data. You will calculate the *root mean squarred error* for various orders of polynomials and use the error to decide which order has the best tradeoff between bias and variance (underfitting/overfitting).\n",
    "\n",
    "The *root mean squared error* is simply the square root of the *mean squared error*: \n",
    "$$\n",
    " \\sqrt{\\frac{1}{m}\\sum_{i=1}^{m}(h_{\\theta}(x_{i})-y_{i})^2}\n",
    "$$\n",
    "We use it because it represents the average error in the same units as the data, i.e. house prices in our case.\n"
   ]
  },
  {
   "cell_type": "markdown",
   "metadata": {},
   "source": [
    "### Task (C)\n",
    "1. **Error function:** Implement the `rmse` function below. Remember to normalize the X-values."
   ]
  },
  {
   "cell_type": "code",
   "execution_count": 20,
   "metadata": {},
   "outputs": [],
   "source": [
    "# coefficient = get_design_matrix(X, order)\n",
    "#     return np.linalg.lstsq(coefficient, y, rcond=None)[0]\n",
    "\n",
    "def rmse(theta, X, y):\n",
    "    normalized_X_values = normalized(X)   \n",
    "    yy = linear_model(normalized_X_values, theta)\n",
    "    return np.sqrt( np.sum(np.subtract(y, yy) ** 2) / y.size )"
   ]
  },
  {
   "cell_type": "markdown",
   "metadata": {},
   "source": [
    "2. **Test models:** Finish the implementation of `test_models` below. It should estimate parameters for a given order polynomial using the training data and then record the train and test losses using the `rmse` function."
   ]
  },
  {
   "cell_type": "code",
   "execution_count": 21,
   "metadata": {},
   "outputs": [],
   "source": [
    "def test_models():\n",
    "    losses_train = []\n",
    "    losses_test = []\n",
    "    for order in range(1, 20):\n",
    "        # Add code here\n",
    "        parameters_theta_train = estimate(X_train, y_train, order )\n",
    "        parameters_theta_test = estimate(X_train, y_train, order )\n",
    "        \n",
    "        A_train = get_design_matrix(X_train, order)\n",
    "        y_values_train = linear_model(A_train, parameters_theta_train) \n",
    "        \n",
    "        A_test = get_design_matrix(X_test, order)\n",
    "        y_values_test = linear_model(A_test, parameters_theta_test) \n",
    "        \n",
    "        \n",
    "        rmse_train = rmse(parameters_theta_train,X_train, y_values_train )\n",
    "        \n",
    "        rmse_test = rmse(parameters_theta_test,X_test,  y_values_test  )\n",
    "     \n",
    "        \n",
    "        losses_train.append(rmse_train)\n",
    "        losses_test.append(rmse_test)\n",
    "    return losses_train, losses_test"
   ]
  },
  {
   "cell_type": "markdown",
   "metadata": {},
   "source": [
    "3. **Plot both losses:** Plot the losses. Are the results what you expected? How does this relate to the dilemma of underfitting and overfitting? "
   ]
  },
  {
   "cell_type": "code",
   "execution_count": 22,
   "metadata": {},
   "outputs": [
    {
     "ename": "ValueError",
     "evalue": "matmul: Input operand 1 has a mismatch in its core dimension 0, with gufunc signature (n?,k),(k,m?)->(n?,m?) (size 2 is different from 436)",
     "output_type": "error",
     "traceback": [
      "\u001b[0;31m---------------------------------------------------------------------------\u001b[0m",
      "\u001b[0;31mValueError\u001b[0m                                Traceback (most recent call last)",
      "\u001b[0;32m<ipython-input-22-d24c1688d43a>\u001b[0m in \u001b[0;36m<module>\u001b[0;34m\u001b[0m\n\u001b[0;32m----> 1\u001b[0;31m \u001b[0mloo_train\u001b[0m\u001b[0;34m,\u001b[0m \u001b[0mloo_test\u001b[0m \u001b[0;34m=\u001b[0m \u001b[0mtest_models\u001b[0m\u001b[0;34m(\u001b[0m\u001b[0;34m)\u001b[0m\u001b[0;34m\u001b[0m\u001b[0;34m\u001b[0m\u001b[0m\n\u001b[0m",
      "\u001b[0;32m<ipython-input-21-33343369a7f0>\u001b[0m in \u001b[0;36mtest_models\u001b[0;34m()\u001b[0m\n\u001b[1;32m     14\u001b[0m \u001b[0;34m\u001b[0m\u001b[0m\n\u001b[1;32m     15\u001b[0m \u001b[0;34m\u001b[0m\u001b[0m\n\u001b[0;32m---> 16\u001b[0;31m         \u001b[0mrmse_train\u001b[0m \u001b[0;34m=\u001b[0m \u001b[0mrmse\u001b[0m\u001b[0;34m(\u001b[0m\u001b[0mparameters_theta_train\u001b[0m\u001b[0;34m,\u001b[0m\u001b[0mX_train\u001b[0m\u001b[0;34m,\u001b[0m \u001b[0my_values_train\u001b[0m \u001b[0;34m)\u001b[0m\u001b[0;34m\u001b[0m\u001b[0;34m\u001b[0m\u001b[0m\n\u001b[0m\u001b[1;32m     17\u001b[0m \u001b[0;34m\u001b[0m\u001b[0m\n\u001b[1;32m     18\u001b[0m         \u001b[0mrmse_test\u001b[0m \u001b[0;34m=\u001b[0m \u001b[0mrmse\u001b[0m\u001b[0;34m(\u001b[0m\u001b[0mparameters_theta_test\u001b[0m\u001b[0;34m,\u001b[0m\u001b[0mX_test\u001b[0m\u001b[0;34m,\u001b[0m  \u001b[0my_values_test\u001b[0m  \u001b[0;34m)\u001b[0m\u001b[0;34m\u001b[0m\u001b[0;34m\u001b[0m\u001b[0m\n",
      "\u001b[0;32m<ipython-input-20-c2c1f3699166>\u001b[0m in \u001b[0;36mrmse\u001b[0;34m(theta, X, y)\u001b[0m\n\u001b[1;32m      4\u001b[0m \u001b[0;32mdef\u001b[0m \u001b[0mrmse\u001b[0m\u001b[0;34m(\u001b[0m\u001b[0mtheta\u001b[0m\u001b[0;34m,\u001b[0m \u001b[0mX\u001b[0m\u001b[0;34m,\u001b[0m \u001b[0my\u001b[0m\u001b[0;34m)\u001b[0m\u001b[0;34m:\u001b[0m\u001b[0;34m\u001b[0m\u001b[0;34m\u001b[0m\u001b[0m\n\u001b[1;32m      5\u001b[0m     \u001b[0mnormalized_X_values\u001b[0m \u001b[0;34m=\u001b[0m \u001b[0mnormalized\u001b[0m\u001b[0;34m(\u001b[0m\u001b[0mX\u001b[0m\u001b[0;34m)\u001b[0m\u001b[0;34m\u001b[0m\u001b[0;34m\u001b[0m\u001b[0m\n\u001b[0;32m----> 6\u001b[0;31m     \u001b[0myy\u001b[0m \u001b[0;34m=\u001b[0m \u001b[0mlinear_model\u001b[0m\u001b[0;34m(\u001b[0m\u001b[0mnormalized_X_values\u001b[0m\u001b[0;34m,\u001b[0m \u001b[0mtheta\u001b[0m\u001b[0;34m)\u001b[0m\u001b[0;34m\u001b[0m\u001b[0;34m\u001b[0m\u001b[0m\n\u001b[0m\u001b[1;32m      7\u001b[0m     \u001b[0;32mreturn\u001b[0m \u001b[0mnp\u001b[0m\u001b[0;34m.\u001b[0m\u001b[0msqrt\u001b[0m\u001b[0;34m(\u001b[0m \u001b[0mnp\u001b[0m\u001b[0;34m.\u001b[0m\u001b[0msum\u001b[0m\u001b[0;34m(\u001b[0m\u001b[0mnp\u001b[0m\u001b[0;34m.\u001b[0m\u001b[0msubtract\u001b[0m\u001b[0;34m(\u001b[0m\u001b[0my\u001b[0m\u001b[0;34m,\u001b[0m \u001b[0myy\u001b[0m\u001b[0;34m)\u001b[0m \u001b[0;34m**\u001b[0m \u001b[0;36m2\u001b[0m\u001b[0;34m)\u001b[0m \u001b[0;34m/\u001b[0m \u001b[0my\u001b[0m\u001b[0;34m.\u001b[0m\u001b[0msize\u001b[0m \u001b[0;34m)\u001b[0m\u001b[0;34m\u001b[0m\u001b[0;34m\u001b[0m\u001b[0m\n",
      "\u001b[0;32m<ipython-input-8-fc8259268b5b>\u001b[0m in \u001b[0;36mlinear_model\u001b[0;34m(X, params)\u001b[0m\n\u001b[1;32m      5\u001b[0m \u001b[0;34m\u001b[0m\u001b[0m\n\u001b[1;32m      6\u001b[0m \u001b[0;32mdef\u001b[0m \u001b[0mlinear_model\u001b[0m\u001b[0;34m(\u001b[0m\u001b[0mX\u001b[0m\u001b[0;34m,\u001b[0m \u001b[0mparams\u001b[0m\u001b[0;34m)\u001b[0m\u001b[0;34m:\u001b[0m\u001b[0;34m\u001b[0m\u001b[0;34m\u001b[0m\u001b[0m\n\u001b[0;32m----> 7\u001b[0;31m     \u001b[0;32mreturn\u001b[0m \u001b[0mX\u001b[0m \u001b[0;34m@\u001b[0m \u001b[0mparams\u001b[0m\u001b[0;34m\u001b[0m\u001b[0;34m\u001b[0m\u001b[0m\n\u001b[0m\u001b[1;32m      8\u001b[0m \u001b[0;34m\u001b[0m\u001b[0m\n\u001b[1;32m      9\u001b[0m \u001b[0;34m\u001b[0m\u001b[0m\n",
      "\u001b[0;31mValueError\u001b[0m: matmul: Input operand 1 has a mismatch in its core dimension 0, with gufunc signature (n?,k),(k,m?)->(n?,m?) (size 2 is different from 436)"
     ]
    }
   ],
   "source": [
    "loo_train, loo_test = test_models()"
   ]
  },
  {
   "cell_type": "markdown",
   "metadata": {},
   "source": [
    "### Task (D)\n",
    "1. What does the loss plots tell you about the precision of the models in general?\n",
    "2. Would you be able to improve the test loss to an arbitrary low value using a different model? If yes, explain what model you might use. If no, explain why not."
   ]
  }
 ],
 "metadata": {
  "kernelspec": {
   "display_name": "Python 3",
   "language": "python",
   "name": "python3"
  },
  "language_info": {
   "codemirror_mode": {
    "name": "ipython",
    "version": 3
   },
   "file_extension": ".py",
   "mimetype": "text/x-python",
   "name": "python",
   "nbconvert_exporter": "python",
   "pygments_lexer": "ipython3",
   "version": "3.7.6"
  }
 },
 "nbformat": 4,
 "nbformat_minor": 4
}
