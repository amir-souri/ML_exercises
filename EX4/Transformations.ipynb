{
 "cells": [
  {
   "cell_type": "code",
   "execution_count": 1,
   "metadata": {},
   "outputs": [],
   "source": [
    "import math\n",
    "import matplotlib.pyplot as plt\n",
    "import numpy as np"
   ]
  },
  {
   "cell_type": "markdown",
   "metadata": {},
   "source": [
    "# 4.2 Geometric Transformations\n",
    "\n",
    "In this exercise, you will create matrices and apply linear geometric transformations in vectors and points on the homogeneous and Euclidean coordinate systems. We cover the following topics:\n",
    "\n",
    "* Rotations and translations using homogeneous coordinates.\n",
    "* Bases and transforming points between them.\n",
    "\n",
    "\n",
    "We use the following helper functions for making the visualisation easier. Feel free to study the code:"
   ]
  },
  {
   "cell_type": "code",
   "execution_count": 2,
   "metadata": {},
   "outputs": [],
   "source": [
    "def config_plot(title, data, data_type):\n",
    "    rows, cols = data.shape\n",
    "    \n",
    "    plt.title(title)\n",
    "    plt.grid(b=True, which=\"major\")\n",
    "    plt.legend([f'{data_type}{i+1}' for i in range(cols)])\n",
    "    plt.axis('scaled')\n",
    "    plt.plot(0, 0, \"ok\")\n",
    "\n",
    "    plt.xlabel(\"X-Axis\")\n",
    "    plt.ylabel(\"Y-Axis\")\n",
    "    \n",
    "    max_values = 1.3 * np.max(abs(data.T), axis = 0)\n",
    "    plt.xlim([-max_values[0], max_values[0]])\n",
    "    plt.ylim([-max_values[1], max_values[1]])\n",
    "    \n",
    "    plt.show()\n",
    "\n",
    "def show_vectors(vectors, title=\"Vectors\", origin=(0, 0)):\n",
    "    rows, cols = vectors.shape\n",
    "\n",
    "    for i in range(0, cols):\n",
    "        xs = [origin[0], vectors[0, i]]\n",
    "        ys = [origin[1], vectors[1, i]]\n",
    "        plt.plot(xs, ys, \"-\", linewidth=2)\n",
    "    \n",
    "    config_plot(title, vectors, 'v')\n",
    "\n",
    "def show_points(points, title=\"Points\"):\n",
    "    rows, cols = points.shape\n",
    "\n",
    "    for i in range(0, cols):\n",
    "        xs = points[0, i]\n",
    "        ys = points[1, i]\n",
    "        plt.plot(xs, ys, \"o\", linewidth=2)\n",
    "    \n",
    "    config_plot(title, points, 'p')"
   ]
  },
  {
   "cell_type": "markdown",
   "metadata": {},
   "source": [
    "The rotation matrix ($R$) in two dimensions is given by:\n",
    "$$R = \\left[\n",
    "\t\\begin{array}{r r}\n",
    "\t\t\\cos(\\theta) & -\\sin(\\theta)\\\\\n",
    "\t\t\\sin(\\theta) & \\cos(\\theta)\n",
    "\t\\end{array}\n",
    "\\right],$$\n",
    "where $\\theta$ is the rotation angle around the origin $(0, 0)$.\n",
    "\n",
    "### Task (A)\n",
    "1. **Create rotation matrices:** Implement the function `get_2d_rotation_matrix()` below which, given an input angle `theta` (in radians) returns the rotation matrix `R`"
   ]
  },
  {
   "cell_type": "code",
   "execution_count": 3,
   "metadata": {},
   "outputs": [],
   "source": [
    "def get_2d_rotation_matrix(theta):\n",
    "    cos = math.cos(theta)\n",
    "    sin = math.sin(theta)\n",
    "    return np.array([[cos, -sin],\n",
    "                     [sin, cos] ])\n",
    "\n"
   ]
  },
  {
   "cell_type": "markdown",
   "metadata": {},
   "source": [
    "2. **Test the function:** Thest your function by multiplying the rotation matrix with the vector $[0, 1]^T$ for the following values of $\\theta$: $0, \\pi/2, \\pi, 1.5\\pi, 2\\pi$. Print the results."
   ]
  },
  {
   "cell_type": "code",
   "execution_count": 4,
   "metadata": {},
   "outputs": [
    {
     "name": "stdout",
     "output_type": "stream",
     "text": [
      "[[0.]\n",
      " [1.]]\n",
      "[[-1.000000e+00]\n",
      " [ 6.123234e-17]]\n",
      "[[-1.2246468e-16]\n",
      " [-1.0000000e+00]]\n",
      "[[ 1.0000000e+00]\n",
      " [-1.8369702e-16]]\n",
      "[[2.4492936e-16]\n",
      " [1.0000000e+00]]\n"
     ]
    }
   ],
   "source": [
    "angles = [math.pi/2, math.pi, 3*math.pi/2, 2/math.pi]\n",
    "vector = np.array([[0], [1]])\n",
    "\n",
    "# Write solution here\n",
    "first = get_2d_rotation_matrix(0) @ vector\n",
    "second = get_2d_rotation_matrix(math.pi/2) @ vector\n",
    "third = np.dot(get_2d_rotation_matrix(math.pi), vector )\n",
    "forth = np.dot(get_2d_rotation_matrix(1.5 * math.pi), vector )\n",
    "fifth = get_2d_rotation_matrix(2 * math.pi) @ vector\n",
    "\n",
    "print(first, second, third, forth, fifth, sep='\\n')"
   ]
  },
  {
   "cell_type": "markdown",
   "metadata": {},
   "source": [
    "3. **Rotate multiple vectors:** Rotate the vectors in `V1` by using matrix multiplication. Show both the original and transformed vectors using the `show_vectors` function."
   ]
  },
  {
   "cell_type": "code",
   "execution_count": 5,
   "metadata": {},
   "outputs": [
    {
     "data": {
      "image/png": "[encoded data removed]",
      "text/plain": [
       "<Figure size 432x288 with 1 Axes>"
      ]
     },
     "metadata": {
      "needs_background": "light"
     },
     "output_type": "display_data"
    },
    {
     "data": {
      "image/png": "[encoded data removed]",
      "text/plain": [
       "<Figure size 432x288 with 1 Axes>"
      ]
     },
     "metadata": {
      "needs_background": "light"
     },
     "output_type": "display_data"
    }
   ],
   "source": [
    "R = get_2d_rotation_matrix(math.pi/5)\n",
    "V1 = np.array([[ 1,  1, -1 ,-1 ],\n",
    "               [ 1, -1, -1,  1 ]], dtype=np.float64)\n",
    "\n",
    "# Write solution here\n",
    "show_vectors(V1)\n",
    "show_vectors(R @ V1)\n",
    "\n",
    "plt.show()"
   ]
  },
  {
   "cell_type": "markdown",
   "metadata": {},
   "source": [
    "### *Extra* task\n",
    "Translate the points in `p1` manually, by adding the translation $(-2, -1)$ to them. *Hint: Use broadcasting for the translation.*"
   ]
  },
  {
   "cell_type": "code",
   "execution_count": 6,
   "metadata": {},
   "outputs": [
    {
     "name": "stdout",
     "output_type": "stream",
     "text": [
      "[[-1. -3.  0. -4.]\n",
      " [-1. -2.  1. -2.]]\n",
      "[[-1. -3.  0. -4.]\n",
      " [-1. -2.  1. -2.]]\n"
     ]
    }
   ],
   "source": [
    "p1 = np.array([[ 1, -1, 2, -2 ],\n",
    "               [ 0, -1, 2, -1 ]], dtype=np.float64)\n",
    "t = np.array([[-2], [-1]], dtype=np.float64)\n",
    "\n",
    "# Write solution here\n",
    "b = np.broadcast(p1, t)\n",
    "out = np.empty(b.shape)\n",
    "out.flat = [u+v for (u,v) in b]\n",
    "\n",
    "pt = p1 + t\n",
    "print(pt, out, sep='\\n')\n",
    "\n",
    "plt.show()"
   ]
  },
  {
   "cell_type": "markdown",
   "metadata": {},
   "source": [
    "# 4.2.1 Homogeneous coordinates\n",
    "In this exercise, you will implement rotations and translations using affine transformations.\n",
    "\n",
    "An general affine transformation matrix for rotation and translation in 2d is defined as:\n",
    "$$\n",
    "T=\\begin{bmatrix}\\cos\\theta&-\\sin\\theta & x_t\\\\\\sin\\theta& \\cos\\theta & y_t\\\\ 0&0&1\\end{bmatrix}\n",
    "$$\n",
    "\n",
    "The transformation is then applied using the following calcuation\n",
    "$$\n",
    "\\begin{bmatrix}x'\\\\ y'\\\\1\\end{bmatrix} = T\\begin{bmatrix}x\\\\ y\\\\1\\end{bmatrix}.\n",
    "$$\n",
    "\n",
    "Affine transformations necessitate the use of homogeneous coordinates to be used with generic matrix multiplication methods. We therefore define the functions `to_homogeneous` and `to_euclidean` for easy conversion to and from homogeneous coordinates.\n",
    "\n",
    "### Task(B)\n",
    "1. Study the functions `to_homogeneous` and `to_euclidean` below. You will use them in many exercises to come.\n",
    "\n",
    "\n",
    " `to_homogeneous` : $ \\begin{bmatrix}x\\\\ y \\end{bmatrix} => \\begin{bmatrix}x\\\\ y\\\\1\\end{bmatrix} $\n",
    "\n",
    " `to_euclidean` : $  \\begin{bmatrix}x\\\\ y \\\\1 \\end{bmatrix} => \\begin{bmatrix}x/1 \\\\ y/1 \\end{bmatrix} $"
   ]
  },
  {
   "cell_type": "code",
   "execution_count": 7,
   "metadata": {},
   "outputs": [],
   "source": [
    "def to_homogeneous(points):\n",
    "    return np.vstack((points, np.ones( (1, points.shape[1]) ) ))\n",
    "\n",
    "def to_euclidean(points):\n",
    "    return points[:2] / points[2]"
   ]
  },
  {
   "cell_type": "markdown",
   "metadata": {},
   "source": [
    "2. Implement the function `get_2d_rt_matrix`. It should return an affine transformation matrix given a rotation `theta` and translation tuple `t`."
   ]
  },
  {
   "cell_type": "code",
   "execution_count": null,
   "metadata": {},
   "outputs": [],
   "source": []
  },
  {
   "cell_type": "code",
   "execution_count": 8,
   "metadata": {},
   "outputs": [],
   "source": [
    "def get_2d_rt_matrix(theta, t):\n",
    "    return np.array([ [np.cos(theta), - np.sin(theta), t[0]],\n",
    "                      [np.sin(theta),   np.cos(theta), t[1]],\n",
    "                      [0,                      0         ,   1 ]      \n",
    "    ])\n"
   ]
  },
  {
   "cell_type": "markdown",
   "metadata": {},
   "source": [
    "3. **Transform points:** Transform the points in `p1` using `get_2d_rt_matrix`. Remember to convert the points to homogeneous coordinates. Experiment with different values of `theta` and `t`. In what order are the translation and rotation performed? Use `show_points` to show both the original and transformed points."
   ]
  },
  {
   "cell_type": "code",
   "execution_count": 9,
   "metadata": {},
   "outputs": [
    {
     "data": {
      "image/png": "[encoded data removed]",
      "text/plain": [
       "<Figure size 432x288 with 1 Axes>"
      ]
     },
     "metadata": {
      "needs_background": "light"
     },
     "output_type": "display_data"
    }
   ],
   "source": [
    "p1 = np.array([[ 1, -1, 2, -2 ],\n",
    "               [ 0, -1, 2, -1 ]], dtype=np.float64)\n",
    "\n",
    "# Write solution here\n",
    "aff = get_2d_rt_matrix(0, (0,0)) # dont rotate theta = 0 I2 /  dont translate (0,0)\n",
    "d = aff @ to_homogeneous(p1)\n",
    "show_points(d)\n",
    "plt.show()"
   ]
  },
  {
   "cell_type": "markdown",
   "metadata": {},
   "source": [
    "4. **Combine multiple transformations:** Do a translation followed by a rotation by creating two separate transformation matrices and combining them using the equation $T_{final} = T_{last}T_{first}$. Transform the points in `p1` using the new matrix. Show the points."
   ]
  },
  {
   "cell_type": "code",
   "execution_count": 10,
   "metadata": {},
   "outputs": [
    {
     "data": {
      "image/png": "[encoded data removed]",
      "text/plain": [
       "<Figure size 432x288 with 1 Axes>"
      ]
     },
     "metadata": {
      "needs_background": "light"
     },
     "output_type": "display_data"
    }
   ],
   "source": [
    "# Write solution here\n",
    "tra = get_2d_rt_matrix(0, (2,1))\n",
    "ro  = get_2d_rt_matrix(math.pi / 4, (0,0) )\n",
    "Tf  = ro @ tra\n",
    "res = Tf @ to_homogeneous(p1)\n",
    "show_points(res)\n",
    "\n",
    "plt.show()"
   ]
  },
  {
   "cell_type": "markdown",
   "metadata": {},
   "source": [
    "# 4.2.2 Change of basis\n",
    "In this exercise, you will apply a change of basis in homogeneous coordinate systems.\n",
    "\n",
    "<img src=\"images/coordinateSystems.png\" width=\"300px\"></img>\n",
    "\n",
    "The image above shows two coordinate systems: \n",
    "* $A$ which is defined by the unit vectors $\\binom{0}{1}, \\binom{1}{0}$.\n",
    "* $B$ which is translated by $(7, 5)$ and rotated $50^\\circ$ with respect to $A$.\n",
    "\n",
    "In the following, you will transform points from $A$ to $B$ and back using the change of basis formula. The matrix representing the change of basis transformation is defined as $T^A_B=V_B^{-1}V_A$, where $V_B, V_A$ are the basis vectors of $A$ and $B$ respectively. Since $A=I$ in our case, $T^A_B=V_B^{-1}$. $V_B$ is defined by the affine transformation matrix that performs the translation and rotation mentioned above.\n",
    "\n",
    "### Task (C)\n",
    "1. **Create change of basis transformation:** \n",
    "Create an affine matrix `TAB` which maps a point from coordinate system $A$ to $B$ using the definitions above."
   ]
  },
  {
   "cell_type": "code",
   "execution_count": 11,
   "metadata": {},
   "outputs": [],
   "source": [
    "t = (7, 5)\n",
    "theta = (50 * math.pi) / 180.\n",
    "\n",
    "# Vb = np.array([ [0, 7],\n",
    "#                 [5, 0]\n",
    "            \n",
    "#               ])\n",
    "# Va = np.array([ [0, 1],\n",
    "#                 [1, 0]\n",
    "            \n",
    "#               ])\n",
    "\n",
    "# TAB2 = np.linalg.inv(Vb) @ Va\n",
    "\n",
    "TAB = np.linalg.inv(get_2d_rt_matrix(theta, t))\n",
    "# Write solution here"
   ]
  },
  {
   "cell_type": "markdown",
   "metadata": {},
   "source": [
    "3. **Transform vectors:** Map the vectors defined by `vA` in coordinate system $A$ to coordinate system $B$ using the same method as the last exercise. Save the points as `vB` and plot them. Is the result what you expected? It might help to imagine the plots laid over the original plot above."
   ]
  },
  {
   "cell_type": "code",
   "execution_count": 12,
   "metadata": {},
   "outputs": [
    {
     "data": {
      "image/png": "[encoded data removed]",
      "text/plain": [
       "<Figure size 432x288 with 1 Axes>"
      ]
     },
     "metadata": {
      "needs_background": "light"
     },
     "output_type": "display_data"
    },
    {
     "data": {
      "image/png": "[encoded data removed]",
      "text/plain": [
       "<Figure size 432x288 with 1 Axes>"
      ]
     },
     "metadata": {
      "needs_background": "light"
     },
     "output_type": "display_data"
    }
   ],
   "source": [
    "vA = np.array([[ -1, 1, 0, 0 ],\n",
    "               [  0, 0, 1, 2 ]], dtype=np.float64)\n",
    "\n",
    "# Write solution here\n",
    "vB = TAB @ to_homogeneous(vA)\n",
    "# vBB = TAB2 @ vA\n",
    "show_points(vA,'vA')\n",
    "\n",
    "show_points(vB,'vB')\n",
    "# show_points(vBB, 'vBB')\n",
    "\n",
    "plt.show()"
   ]
  },
  {
   "cell_type": "markdown",
   "metadata": {},
   "source": [
    "4. **Inverse mapping:** Create the affine matrix `TBA` which maps a point from coordinate system $B$ to $A$ using the definitions above. Use it to transform the points `vB` back to $A$ - save the result in `vA2`. *Hint: You may create `TBA` either from scratch or from `TAB`.*"
   ]
  },
  {
   "cell_type": "code",
   "execution_count": 13,
   "metadata": {},
   "outputs": [
    {
     "data": {
      "image/png": "[encoded data removed]",
      "text/plain": [
       "<Figure size 432x288 with 1 Axes>"
      ]
     },
     "metadata": {
      "needs_background": "light"
     },
     "output_type": "display_data"
    },
    {
     "data": {
      "image/png": "[encoded data removed]",
      "text/plain": [
       "<Figure size 432x288 with 1 Axes>"
      ]
     },
     "metadata": {
      "needs_background": "light"
     },
     "output_type": "display_data"
    }
   ],
   "source": [
    "# Write solution here\n",
    "TBA = np.linalg.inv(TAB)\n",
    "\n",
    "show_points(vB, 'vB')\n",
    "show_points(TBA @ vB, 'vA')\n",
    "\n",
    "plt.show()"
   ]
  }
 ],
 "metadata": {
  "kernelspec": {
   "display_name": "Python 3",
   "language": "python",
   "name": "python3"
  },
  "language_info": {
   "codemirror_mode": {
    "name": "ipython",
    "version": 3
   },
   "file_extension": ".py",
   "mimetype": "text/x-python",
   "name": "python",
   "nbconvert_exporter": "python",
   "pygments_lexer": "ipython3",
   "version": "3.7.6"
  }
 },
 "nbformat": 4,
 "nbformat_minor": 4
}
