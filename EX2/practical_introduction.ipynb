{
 "cells": [
  {
   "cell_type": "markdown",
   "metadata": {},
   "source": [
    "# Practical introduction to Python and Numpy\n",
    "This part of the exercises aims to introduce you to a bit more of the Python and Numpy syntax and give you some simple guidelines for working effectively with arrays (which is what images are).\n",
    "\n",
    "Tasks you have to perform are marked as **Task (x)**.\n",
    "\n",
    "*Note: Run each cell as you read along. If a cell is incomplete, it is part of some exercise as described in the text.*"
   ]
  },
  {
   "cell_type": "markdown",
   "metadata": {},
   "source": [
    "## 2.1.1 Using Python to implement basic linear algebra functions\n",
    "We start by defining vectors $v_a$, $v_b$ as Python lists:"
   ]
  },
  {
   "cell_type": "code",
   "execution_count": null,
   "metadata": {},
   "outputs": [],
   "source": [
    "va = [2, 2]\n",
    "vb = [3, 4]"
   ]
  },
  {
   "cell_type": "markdown",
   "metadata": {},
   "source": [
    "The euclidean length of a vector is defined \n",
    "$$||v|| = \\sqrt{\\sum_{i=1}^N v_i^2}.$$\n",
    "\n",
    "### Task (A)\n",
    "1. Implement this as a Python function in the code below.\n",
    "2. Test the result on vectors $v_a$ and $v_b$ and verify by hand.\n",
    "\n",
    "**Hints:** \n",
    "* For-loops in python work like for-each loops in Java, i.e. they loop through the elements of an iterator and takes the current iterator value as the iteration variable.\n",
    "* Python has a `range(x)` function which returns an iterator of integers from $0,\\dots, x$.\n",
    "* The size of a list can be found using the `len(l)` function.\n",
    "* Exponentiation in python works using the `**` operator. For square root, use `x**(1/2)`.\n",
    "* Remember to use Python's built in `help(<function/class/method>)` function for additional documentation. In Jupyter Lab, you can also open a documentation popover by pressing placing the text cursor on the desired symbol and pressing **Shift + Tab**."
   ]
  },
  {
   "cell_type": "code",
   "execution_count": null,
   "metadata": {},
   "outputs": [],
   "source": [
    "def norm(v):\n",
    "    res = 0\n",
    "    for i in range(len(v)):\n",
    "        res = res + v[i] ** 2\n",
    "            \n",
    "    return res ** (1/2)\n",
    "\n",
    "print('a', norm(va))\n",
    "print('b', norm(vb))"
   ]
  },
  {
   "cell_type": "markdown",
   "metadata": {},
   "source": [
    "Using loops for list iteration requires quite a lot of boilerplate code. Luckily, Python's *list comprehensions* are created exactly for making list iteration more expressive and easier to understand.\n",
    "\n",
    "A list comprehension has the following form\n",
    "```python\n",
    "[f(e) for e in list]\n",
    "```\n",
    "where $f$ is an arbitrary function applied to each element $e$. For people familiar with functional programming, this is equivalent to the `map` function. *Note: List comprehensions can also include guard rules. You can read more about list comprehensions [here](https://docs.python.org/3/tutorial/datastructures.html#list-comprehensions).*\n",
    "\n",
    "Python also provides a wealth of utility functions for performing common list operations. One such function is\n",
    "```python\n",
    "sum(l)\n",
    "```\n",
    "which sums all elements in the list argument.\n"
   ]
  },
  {
   "cell_type": "markdown",
   "metadata": {},
   "source": [
    "### Task (B)\n",
    "1. Implement the euclidean length function below by using a list comprehension and sum function.\n",
    "    - First exponentiate each element in the list comprehension, resulting in a new list of exponentiated values.\n",
    "    - Then use the sum function to add all elements together and finally remember the square root.\n",
    "2. Test the result as before."
   ]
  },
  {
   "cell_type": "code",
   "execution_count": null,
   "metadata": {},
   "outputs": [],
   "source": [
    "def norm2(v):\n",
    "    return sum([vi ** 2 for vi in v]) ** (1/2)\n",
    "    \n",
    "print('a', norm2(va))\n",
    "print('b', norm2(vb))"
   ]
  },
  {
   "cell_type": "markdown",
   "metadata": {},
   "source": [
    "If execution “falls off the end” of a Python function without a return statement, it's essentially treated as if the function ended with: return None."
   ]
  },
  {
   "cell_type": "markdown",
   "metadata": {},
   "source": [
    "Your next task is to produce a dot product given two vectors. For reference, the dot product for vectors is defined as:\n",
    "$$\n",
    "dot(a, b) = a\\bullet b = \\sum_{i=1}^N a_ib_i.\n",
    "$$\n",
    "\n",
    "The dot product is an algebraic operation which takes two equal-sized vectors and returns a single scalar (which is why it is sometimes referred to as the scalar product).\n",
    "\n",
    "### Task (C)\n",
    "1. Finish the function \"dot\" below by implementing the equation for dot product using either for-loops or list comprehensions.\n",
    "    - *Note: If you want to use list comprehensions you need the function `zip` which interleaves two iterators. It is equivalent to most functional language zip functions. Documentation can be found [here](https://docs.python.org/3/library/functions.html#zip)*\n",
    "2. Test the implementation on $v_a$ and $v_b$. Verify by hand!"
   ]
  },
  {
   "cell_type": "code",
   "execution_count": null,
   "metadata": {},
   "outputs": [],
   "source": [
    "def dot(a, b):\n",
    "    if len(a) == len(b):\n",
    "        res = 0\n",
    "        for i in range(len(a)):\n",
    "            res = res + a[i] * b[i] \n",
    "            \n",
    "        return res    \n",
    "    else:\n",
    "        return \"The vectors must have equal-length\"\n",
    "            \n",
    "dot(va, vb)"
   ]
  },
  {
   "cell_type": "code",
   "execution_count": null,
   "metadata": {},
   "outputs": [],
   "source": [
    "def dot2(a,b):\n",
    "    if len(a) == len(b):\n",
    "        return sum(a_i*b_i for a_i, b_i in zip(a, b))\n",
    "    else:\n",
    "        return \"The vectors must have equal-length\"\n",
    "\n",
    "\n",
    "dot2(va, vb)"
   ]
  },
  {
   "cell_type": "markdown",
   "metadata": {},
   "source": [
    "Finally, we need to implement matrix multiplication. For an $N\\times D$ matrix $A$ and a $D\\times K$ matrix $B$, the matrix multiplication (or matrix product) is a new $N\\times K$ matrix $R$. Elements $R_{ij}$ of $R$ can be calculated using the following formula\n",
    "$$\n",
    "R_{ij} = \\sum_{d=1}^D A_{id}B_{dj}.\n",
    "$$\n",
    "In other words, it is the dot product of the $i$'th row vector of $A$ and the $j$'th column vector of $B$.\n",
    "\n",
    "### Task (D)\n",
    "1. We provided a possible implementation of matrix multiplication. Make sure that you understand what's going on, especially concerning the actual result calculation (for loops).\n",
    "2. Create sample matrices $m_a$ and $m_b$ by filling out the code stubs below. The sizes aren't important as long as they are valid for multiplication. *Hint: You can simply nest lists in Python*.\n",
    "3. Verify the implementation result by hand calculation."
   ]
  },
  {
   "cell_type": "code",
   "execution_count": null,
   "metadata": {},
   "outputs": [],
   "source": [
    "ma = [ [1,5],\n",
    "       [45,87],\n",
    "       [475,8]\n",
    "     ]\n",
    "\n",
    "mb = [ [1,5,9,5,22],\n",
    "       [45,87,10,2,0]\n",
    "     ]\n",
    " \n",
    "maa = [ [1,5],\n",
    "       [45,87]\n",
    "     ]\n",
    "\n",
    "mbb = [ [1,5],\n",
    "       [45,87]\n",
    "     ]\n",
    " \n",
    "outtest = [[0 for _ in range(len(mb[0]))] for _ in range(len(ma))]\n",
    "outtest\n"
   ]
  },
  {
   "cell_type": "code",
   "execution_count": null,
   "metadata": {},
   "outputs": [],
   "source": [
    "def matmul(a, b):\n",
    "    # Check for valid matrix sizes\n",
    "    if len(a[0]) != len(b):\n",
    "        raise ValueError(f'Matrices of size ({len(a), len(a[0])}) and ({len(b), len(b[0])}) are not compatible')\n",
    "        \n",
    "    # D = inner_size\n",
    "    inner_size = len(b)\n",
    "    \n",
    "    \n",
    "    \n",
    "    # The NxK output matrix, initialised to 0s\n",
    "    # It works only for square matrix\n",
    "    #out = [[0 for _ in range(inner_size)] for _ in range(inner_size)] \n",
    "    \n",
    "    out = [[0 for _ in range(len(b[0]))] for _ in range(len(a))]\n",
    "\n",
    "    \n",
    "    for row_a in range(len(a)):\n",
    "        for col_b in range(len(b[0])):\n",
    "            \n",
    "            # Application of the formula\n",
    "            out[row_a][col_b] = 0\n",
    "            for i in range(inner_size):\n",
    "                \n",
    "                out[row_a][col_b] += a[row_a][i] * b[i][col_b]\n",
    "    return out\n",
    "    \n",
    "matmul(maa, mbb)"
   ]
  },
  {
   "cell_type": "markdown",
   "metadata": {},
   "source": [
    "## Introducing Numpy\n",
    "\n",
    "Numpy makes it way easier to work with multidimensional arrays and provides a significant performance increase as well. We start by showing how Numpy is used to do simple array operations.\n",
    "\n",
    "The following code imports the `numpy` package and creates a $3\\times 3$ matrix:\n",
    "\n",
    "*Note the import statement renaming `numpy` to `np`. This is commonly done in Python to avoid namespace confusion.*"
   ]
  },
  {
   "cell_type": "code",
   "execution_count": null,
   "metadata": {},
   "outputs": [],
   "source": [
    "import numpy as np\n",
    "\n",
    "vec = np.array([\n",
    "    [1, 2, 3],\n",
    "    [3, 4, 9],\n",
    "    [5, 7, 3]\n",
    "])"
   ]
  },
  {
   "cell_type": "markdown",
   "metadata": {},
   "source": [
    "To check the size of an array use `a.shape`. This works on all numpy arrays, e.g. `(vec*2).shape` works as well (we will return to array operations later in this exercise). \n",
    "\n",
    "Print the shape of `vec` below and verify that it corresponds to the expected shape."
   ]
  },
  {
   "cell_type": "code",
   "execution_count": null,
   "metadata": {},
   "outputs": [],
   "source": [
    "vec.shape"
   ]
  },
  {
   "cell_type": "markdown",
   "metadata": {},
   "source": [
    "Slicing in Python enables the selection of more than one array element. Instead of specifying a single number, e.g. `0` a range can be specified using the notation `<start>:<stop>`, e.g. `0:2`. Check the code below for a few examples:\n",
    "\n",
    "  https://docs.scipy.org/doc/numpy/reference/arrays.indexing.html\n"
   ]
  },
  {
   "cell_type": "markdown",
   "metadata": {},
   "source": [
    "***Note*** that element in built-in array can be accessed ***only*** as follow:\n",
    "\n",
    "vec = [....]\n",
    "\n",
    "  vec[***row***] [column] ***Not*** vec[row,column]\n",
    "   "
   ]
  },
  {
   "cell_type": "code",
   "execution_count": null,
   "metadata": {},
   "outputs": [],
   "source": [
    "single = vec[0]\n",
    "print('single', single)\n",
    "\n",
    "vector = vec[:2, 1] # 0's can be ommitted.\n",
    "print('vector', vector)\n",
    "\n",
    "matrix = vec[:, :2]\n",
    "print('matrix\\n', matrix)\n"
   ]
  },
  {
   "cell_type": "markdown",
   "metadata": {},
   "source": [
    "It is also possible to use negative indices. These are equivalent to counting from the end of the array, i.e. `-<idx>` $\\equiv$ `len(a)-<idx>`. A few examples:"
   ]
  },
  {
   "cell_type": "code",
   "execution_count": null,
   "metadata": {},
   "outputs": [],
   "source": [
    "single = vec[-1, -1]\n",
    "print('single', single)\n",
    "\n",
    "arange = vec[0:-2, 0:-1]\n",
    "print('arange', arange)"
   ]
  },
  {
   "cell_type": "markdown",
   "metadata": {},
   "source": [
    "### Task (E)\n",
    "1. Create variable `ur` as a 2x2 matrix of the upper right corner of `vec` using slicing.\n",
    "2. Create variable `row` as the 2nd row of `vec`\n",
    "3. Create variable `col` as the 1st column of `vec`"
   ]
  },
  {
   "cell_type": "code",
   "execution_count": null,
   "metadata": {},
   "outputs": [],
   "source": [
    "ur = vec[:2, :2]\n",
    "row = vec[1,:]\n",
    "col = vec[:, 0]\n",
    "\n",
    "print('upper right', ur)\n",
    "print('row', row)\n",
    "print('column', col)"
   ]
  },
  {
   "cell_type": "markdown",
   "metadata": {},
   "source": [
    "## 2.1.2 Using Numpy for array operations\n",
    "While these implementations seem fine for our sample inputs, they quickly become unbearingly slow when increasing the size of the operands. For example, the matrix multiplication runs in time $O(NKD)$ which is $O(N^3)$ if $N=K=D$. \n",
    "\n",
    "Let's try an example. The code below uses numpy to generate $100\\times 100$ matrices of random numbers:"
   ]
  },
  {
   "cell_type": "code",
   "execution_count": null,
   "metadata": {},
   "outputs": [],
   "source": [
    "ta = np.random.randint(100, size=(100, 100))\n",
    "tb = np.random.randint(100, size=(100, 100))"
   ]
  },
  {
   "cell_type": "markdown",
   "metadata": {},
   "source": [
    "Jupyter Lab provides special command `%timeit <statement>` which runs a performance test on the supplied statement. This way, we can test how fast our matrix multiplication code is:"
   ]
  },
  {
   "cell_type": "code",
   "execution_count": null,
   "metadata": {},
   "outputs": [],
   "source": [
    "%timeit matmul(ta, tb)"
   ]
  },
  {
   "cell_type": "markdown",
   "metadata": {},
   "source": [
    "Not very fast huh? Now let's try using numpy's built in matrix multiplication function `np.dot` instead."
   ]
  },
  {
   "cell_type": "code",
   "execution_count": null,
   "metadata": {},
   "outputs": [],
   "source": [
    "%timeit np.dot(ta, tb)"
   ]
  },
  {
   "cell_type": "markdown",
   "metadata": {},
   "source": [
    "That is approximately 1500 times faster than the native version (on the test computer, anyway)!!. What about other list operations? Lets try the sum function:"
   ]
  },
  {
   "cell_type": "code",
   "execution_count": null,
   "metadata": {},
   "outputs": [],
   "source": [
    "%timeit sum(ta)"
   ]
  },
  {
   "cell_type": "code",
   "execution_count": null,
   "metadata": {},
   "outputs": [],
   "source": [
    "%timeit np.sum(ta)"
   ]
  },
  {
   "cell_type": "markdown",
   "metadata": {},
   "source": [
    "Also a clear improvement. Because of its speed, Numpy should always be used instead of native Python wherever possible."
   ]
  },
  {
   "cell_type": "markdown",
   "metadata": {},
   "source": [
    "## 2.1.3 Adapting Python code to Numpy\n",
    "\n",
    "Although simple multiplications and sums are easier to perform using Numpy functions than native Python, the other is true in a lot of situations where more specific processing is needed.\n",
    "\n",
    "Let's start by adapting our `norm` function to numpy. Numpy supports many elementwise operations, all implemented as overloads of the traditional operators. To lift all elements of a numpy array to the $n$'th power, simply use the `**` operator.\n",
    "\n",
    "### Task (F)\n",
    "1. Implement norm_np without using loops or list comprehensions. Numpy has a sum function `np.sum` you can use.\n",
    "2. Test it on the provided vector"
   ]
  },
  {
   "cell_type": "code",
   "execution_count": null,
   "metadata": {},
   "outputs": [],
   "source": [
    "def norm_np(v):\n",
    "    return np.sum(np.power(v,2)) ** (1/2)\n",
    "        "
   ]
  },
  {
   "cell_type": "code",
   "execution_count": null,
   "metadata": {},
   "outputs": [],
   "source": [
    "vec = np.array([2, 3, 4, 5])\n",
    "norm_np(vec)"
   ]
  },
  {
   "cell_type": "markdown",
   "metadata": {},
   "source": [
    "Again, we compare the Python and Numpy implementations using an array of random numbers:"
   ]
  },
  {
   "cell_type": "code",
   "execution_count": null,
   "metadata": {},
   "outputs": [],
   "source": [
    "vr = np.random.randint(100, size=10000)"
   ]
  },
  {
   "cell_type": "code",
   "execution_count": null,
   "metadata": {},
   "outputs": [],
   "source": [
    "%timeit norm_np(vr)\n",
    "%timeit norm(vr)\n",
    "%timeit norm2(vr)"
   ]
  },
  {
   "cell_type": "markdown",
   "metadata": {},
   "source": [
    "Once again a huge difference between Numpy and Python (with the Python loop and list-comprehension versions being approximately equal). "
   ]
  },
  {
   "cell_type": "markdown",
   "metadata": {},
   "source": [
    "## 2.1.4 Useful Numpy tricks\n",
    "We end this exercise by introducing a few essential Numpy tricks that will make coding with Numpy much easier (and faster).\n",
    "\n",
    "### Comparison operators\n",
    "Just as the elementwise arithmetic operators, Numpy implements elementwise comparison operators. For example, if we wanted to find elements of `vr` larger than $98$ we can use the following code:"
   ]
  },
  {
   "cell_type": "code",
   "execution_count": null,
   "metadata": {},
   "outputs": [],
   "source": [
    "vr > 98"
   ]
  },
  {
   "cell_type": "markdown",
   "metadata": {},
   "source": [
    "In itself this isn't super useful. Luckely, Numpy supports a special indexing mode using an array of booleans to indicate which elements to keep. \n",
    "\n",
    "To get the actual values we simply insert the comparison code into the index operator for the array:"
   ]
  },
  {
   "cell_type": "code",
   "execution_count": null,
   "metadata": {},
   "outputs": [],
   "source": [
    "vr[vr > 98]"
   ]
  },
  {
   "cell_type": "markdown",
   "metadata": {},
   "source": [
    "Finally, we can combine boolean arrays by using the logical operators `&` and `|`"
   ]
  },
  {
   "cell_type": "code",
   "execution_count": null,
   "metadata": {},
   "outputs": [],
   "source": [
    "vr[(vr < 2) | (vr > 98)]"
   ]
  },
  {
   "cell_type": "markdown",
   "metadata": {},
   "source": [
    "These tricks also work for assignment:"
   ]
  },
  {
   "cell_type": "code",
   "execution_count": null,
   "metadata": {},
   "outputs": [],
   "source": [
    "vr[vr > 50] = 0\n",
    "vr[:10]"
   ]
  },
  {
   "cell_type": "markdown",
   "metadata": {},
   "source": [
    "### Operate along dimensions\n",
    "You will often create operations on arrays that contain multiple instances grouped together. For example, in machine learning, you often concatenate input vectors into matrices. In these instances you may want to perform operations along only one or some of the array axes.\n",
    "\n",
    "As an example, let's try to calculate the average of $N$ random vectors. We define an $N\\times K$ matrix of random values:"
   ]
  },
  {
   "cell_type": "code",
   "execution_count": null,
   "metadata": {},
   "outputs": [],
   "source": [
    "N, K = 20, 10\n",
    "r = np.random.uniform(size=(N, K))"
   ]
  },
  {
   "cell_type": "markdown",
   "metadata": {},
   "source": [
    "Numpy provides a function `np.mean` for calculating averages. Using the `axis` argument, we specify that the average should be calculated over the rows:"
   ]
  },
  {
   "cell_type": "code",
   "execution_count": null,
   "metadata": {},
   "outputs": [],
   "source": [
    "np.mean(r, axis=0)"
   ]
  },
  {
   "cell_type": "markdown",
   "metadata": {},
   "source": [
    "The `axis` argument is supported by most of Numpy's functions, including `sum` and `sqrt`."
   ]
  }
 ],
 "metadata": {
  "kernelspec": {
   "display_name": "Python 3",
   "language": "python",
   "name": "python3"
  },
  "language_info": {
   "codemirror_mode": {
    "name": "ipython",
    "version": 3
   },
   "file_extension": ".py",
   "mimetype": "text/x-python",
   "name": "python",
   "nbconvert_exporter": "python",
   "pygments_lexer": "ipython3",
   "version": "3.7.6"
  }
 },
 "nbformat": 4,
 "nbformat_minor": 4
}
