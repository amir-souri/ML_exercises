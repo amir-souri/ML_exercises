{
 "cells": [
  {
   "cell_type": "code",
   "execution_count": null,
   "metadata": {},
   "outputs": [],
   "source": [
    "import numpy as np\n",
    "import matplotlib.pyplot as plt"
   ]
  },
  {
   "cell_type": "markdown",
   "metadata": {},
   "source": [
    "# 3.3 Linear Algebra using Python and Numpy\n",
    "This exercise introduces basic linear algebra operations in Numpy as well as how to use it to solve systems of linear equations and for performing linear regression using least squares. Your goal should be to familiarise yourself with the theoretical linear algebra concepts and learn some standard applications in Numpy. We cover the following topics:\n",
    "\n",
    "* Basic matrix operations (elementwise operations, transpose, multiplication, inverse)\n",
    "* Properties of matrix multiplication and inversion\n",
    "* Linear equations in matrix form\n",
    "* Solving linear equations using matrix inverses\n"
   ]
  },
  {
   "cell_type": "markdown",
   "metadata": {},
   "source": [
    "## 3.3.1 Matrix operations and algebra\n",
    "In this exercise you will learn to perform basic linear algebra operations using Numpy."
   ]
  },
  {
   "cell_type": "markdown",
   "metadata": {},
   "source": [
    "We define a few matrices to be used in the following exercises:"
   ]
  },
  {
   "cell_type": "code",
   "execution_count": null,
   "metadata": {},
   "outputs": [],
   "source": [
    "A = np.array([\n",
    "    [1, 0.5, 1/3, 0.25],\n",
    "    [0.5, 1/3, 0.25, 0.2],\n",
    "    [1/3, 0.25, 0.2, 1/6],\n",
    "    [0.25, 0.2, 1/6, 1/7]\n",
    "])\n",
    "\n",
    "B = np.array([\n",
    "    [-16, 15, -14, 13],\n",
    "    [-12, 11, -10, 9],\n",
    "    [-8, 7, -6, 5],\n",
    "    [-4, 3, -2, 1]\n",
    "])\n",
    "\n",
    "C = np.array([\n",
    "    [1, 1/2, 1/3, 1/4],\n",
    "    [1/2, 1/3, 1/4, 1/5],\n",
    "    [1/3, 1/5, 1/7, 1/9],\n",
    "    [1/4, 1/7, 1/8, 1/9],\n",
    "])\n",
    "\n"
   ]
  },
  {
   "cell_type": "markdown",
   "metadata": {},
   "source": [
    "### Task (A):\n",
    "1. Calculate $A-B$. Then convert each of $A$, $B$, to `np.float16` (use `np.float16(a)`) and try again. Do you observe any difference?"
   ]
  },
  {
   "cell_type": "code",
   "execution_count": null,
   "metadata": {},
   "outputs": [],
   "source": [
    "# Double precision numbers have 53 bits (16 digits) of precision and regular floats have 24 bits (8 digits) of\n",
    "# precision. The floating point type in Python uses double precision to store the values.\n",
    "# https://docs.scipy.org/doc/numpy-1.13.0/user/basics.types.html\n",
    "fA = np.float16(A)\n",
    "fB = np.float16(B)\n",
    "print(np.subtract(A,B))\n",
    "print(np.subtract(fA, fB))\n",
    "# Yes"
   ]
  },
  {
   "cell_type": "markdown",
   "metadata": {},
   "source": [
    "2. Calculate $AC$ and $CA$ using `np.dot`. Are the results what you expected?"
   ]
  },
  {
   "cell_type": "code",
   "execution_count": null,
   "metadata": {},
   "outputs": [],
   "source": [
    "np.dot(A,C)\n",
    "C.dot(A)\n",
    "# A B != B A necessarily"
   ]
  },
  {
   "cell_type": "markdown",
   "metadata": {},
   "source": [
    "3. Calculate $A\\cdot C$ using the `*` operator. Explain the difference between `np.dot` and `*`."
   ]
  },
  {
   "cell_type": "code",
   "execution_count": null,
   "metadata": {},
   "outputs": [],
   "source": [
    "A * C\n",
    "C * A\n",
    "# * it multiplies matrix elementwise(operating on one element (of a matrix etc) at a time)\n",
    "# Algebraically, the dot product is the sum of the products of the corresponding entries of the two sequences\n",
    "# of numbers.\n",
    "# A * C == C * A"
   ]
  },
  {
   "cell_type": "markdown",
   "metadata": {},
   "source": [
    "4. Calculate inverses of $A$ and $C$. Use `np.linalg.inv` to achieve this. ([docs](https://docs.scipy.org/doc/numpy/reference/generated/numpy.linalg.inv.html))"
   ]
  },
  {
   "cell_type": "code",
   "execution_count": null,
   "metadata": {},
   "outputs": [],
   "source": [
    "Ai = np.linalg.inv(A)\n",
    "Ci = np.linalg.inv(C)\n",
    "# Note: Not all square matrices have inverses."
   ]
  },
  {
   "cell_type": "markdown",
   "metadata": {},
   "source": [
    "5. Calculate $AA^{-1}$. Is the result what you expected? Calculate $CC^{-1}$. How do they compare? *Note: You may want to use `np.around(a, dec)` ([docs](https://docs.scipy.org/doc/numpy/reference/generated/numpy.around.html#numpy.around)) to round the results for easier visual inspection*."
   ]
  },
  {
   "cell_type": "code",
   "execution_count": null,
   "metadata": {},
   "outputs": [],
   "source": [
    "# AA-1 = A-1A = I\n",
    "assert np.dot(A,Ai).all() == np.dot(Ai, A).all(), \"NO\"\n",
    "I = np.dot(A,Ai)\n",
    "# this is clearly not identity. This error is, because float values are never the exact values, \n",
    "# they always have some error in them.\n",
    "# But if you round it, you'll get an identity.\n",
    "# np.around(I)\n",
    "np.around(A @ Ai) # @ == np.dot\n",
    "np.around(C @ Ci)"
   ]
  },
  {
   "cell_type": "markdown",
   "metadata": {},
   "source": [
    "### Task (B)\n",
    "The next tasks require two more matrices:"
   ]
  },
  {
   "cell_type": "code",
   "execution_count": null,
   "metadata": {},
   "outputs": [],
   "source": [
    "D = np.array([\n",
    "    [2, 4, 5/2],\n",
    "    [-3/4, 2, 0.25],\n",
    "    [0.25, 0.5, 2]\n",
    "])\n",
    "\n",
    "E = np.array([\n",
    "    [1, -0.5, 3/4],\n",
    "    [3/2, 0.5, -2],\n",
    "    [0.25, 1, 0.5]\n",
    "])\n",
    "\n",
    "D_inv = np.linalg.inv(D)\n",
    "E_inv = np.linalg.inv(E)"
   ]
  },
  {
   "cell_type": "markdown",
   "metadata": {},
   "source": [
    "1. Calculate $D^{-1}E^{-1}$, $(DE)^{-1}$, and $(ED)^{-1}$. Compare the results."
   ]
  },
  {
   "cell_type": "code",
   "execution_count": null,
   "metadata": {},
   "outputs": [],
   "source": [
    "# assert  np.around(D_inv @ E_inv).all() == np.around(np.linalg.inv(D @ E)).all()  == np.around(np.linalg.inv(E @ D)).all(), \"No\"\n",
    "assert  (D_inv @ E_inv).all() == np.linalg.inv(D @ E).all()  == np.linalg.inv(E @ D).all(), \"No\""
   ]
  },
  {
   "cell_type": "markdown",
   "metadata": {},
   "source": [
    "2. Calculate both $(D^{-1})^T$ and $(D^T)^{-1}$. Compare the results."
   ]
  },
  {
   "cell_type": "code",
   "execution_count": null,
   "metadata": {},
   "outputs": [],
   "source": [
    "# np.transpose(D)\n",
    "# TODO Why -0\n",
    "print(np.around(D_inv).transpose())\n",
    "print(np.linalg.inv(np.around(D.transpose())))\n",
    "assert np.around(D_inv.transpose()).all() == np.around(np.linalg.inv(D.transpose())).all(); \"NO\"\n"
   ]
  },
  {
   "cell_type": "markdown",
   "metadata": {},
   "source": [
    "## 3.3.2 Linear equations"
   ]
  },
  {
   "cell_type": "markdown",
   "metadata": {},
   "source": [
    "We now turn our attention to systems of linear equations. As explained during the lecture, matrices can represent systems of linear equations. In this view, a row $r_i$ of a matrix $A$ is the coefficients of one equation. The solutions are represented as a vector $\\mathbf{b}$ where $b_i$ is the solution to equation $r_i$. The matrix-form of a linear equation system is then\n",
    "$$\n",
    "Ax=b\n",
    "$$\n",
    "and a solution can be found using\n",
    "\\begin{align}\n",
    "A^{-1}Ax&=A^{-1}b\\\\\n",
    "x &= A^{-1}b.\n",
    "\\end{align}\n",
    "\n",
    "### Task (C)\n",
    "Solve each of the following equation systems by calculating $A^{-1}b$:\n",
    "\n",
    "a) \n",
    "\\begin{align}\n",
    "2x + 3y  &= -1\\\\\n",
    "x + y  &= 0\\\\\n",
    "\\end{align}\n",
    "\n",
    "b)\n",
    "\\begin{align}\n",
    "\t\t\t1x + 0y  &= 5\\\\\n",
    "\t\t\t0x + 1y  &= 7\\\\\n",
    "\\end{align}\n",
    "\n",
    "c)\n",
    "\\begin{align}\n",
    "\t\t\t0x + y  &= -1\\\\\n",
    "\t\t\t-2x + -3y  &= 2\\\\\n",
    "\\end{align}\n",
    "\n",
    "d)\n",
    "\\begin{align}\n",
    "\t\t\tx + -3y + 3z &= 0.5\\\\\n",
    "\t\t\tx - 5y + 3z& = 0.5\\\\\n",
    "\t\t\t6z + -6y + 4x &= 1.\n",
    "\\end{align}\n",
    "\n",
    "e)\n",
    "\\begin{align}\n",
    "\t\t\t2x + 3y + 4z &= 2\\\\\n",
    "\t\t\tx + 4z + y &= -2\\\\\n",
    "\t\t\t4z + 5y + 2x &= 3.\n",
    "\\end{align}\n",
    "\n",
    "f)\n",
    "\\begin{align}\n",
    "\t\t\tx + y + z &= 2\\\\\n",
    "\t\t\t2x + 2z + 2y &= -2\\\\\n",
    "\t\t\t3z + 3y + 3x &= 3.\n",
    "\\end{align}"
   ]
  },
  {
   "cell_type": "code",
   "execution_count": null,
   "metadata": {},
   "outputs": [],
   "source": [
    "# Write solutions here\n",
    "# a)\n",
    "A1 = np.array([ [2,3],\n",
    "               [1,1] ])\n",
    "\n",
    "b1 = np.array([\n",
    "               [-1,0] ])\n",
    "\n",
    "x1 = np.linalg.inv(A1) @ np.transpose(b1)\n",
    "\n",
    "# b)\n",
    "A2 = np.array([ [1,0],\n",
    "               [0,1] ])\n",
    "\n",
    "b2 = np.array([\n",
    "               [5,7] ])\n",
    "\n",
    "x2 = np.linalg.inv(A2) @ np.transpose(b2)\n",
    "\n",
    "# c)\n",
    "A3 = np.array([ [0,1],\n",
    "               [-2,-3] ])\n",
    "\n",
    "b3 = np.array([\n",
    "               [-1,2] ])\n",
    "\n",
    "x3 = np.linalg.inv(A3) @ np.transpose(b3)\n",
    "\n",
    "# d)\n",
    "A4 = np.array([ [1,-3,3],\n",
    "                [1,-5,3],\n",
    "                [6,-6,4] ])\n",
    "\n",
    "b4 = np.array([\n",
    "               [.5,.5,1] ])\n",
    "\n",
    "x4 = np.linalg.inv(A4) @ np.transpose(b4)\n",
    "\n",
    "# e)\n",
    "A5 = np.array([ [2,3,4],\n",
    "                [1,4,1],\n",
    "                [4,5,2] ])\n",
    "\n",
    "b5 = np.array([\n",
    "               [2,-2,3] ])\n",
    "\n",
    "x5 = np.linalg.inv(A5) @ np.transpose(b5)\n",
    "\n",
    "# f) TODO It is a singular matrix (|A| = 0). It is \n",
    "A6 = np.array([ [1,1,1],\n",
    "                [2,2,2],\n",
    "                [3,3,3] ])\n",
    "\n",
    "b6 = np.array([\n",
    "               [2,-2,3] ])\n",
    "\n",
    "# x6 = np.linalg.inv(A6) @ np.transpose(b6)"
   ]
  },
  {
   "cell_type": "markdown",
   "metadata": {},
   "source": [
    "### *Extra task*\n",
    "Explain, in your own words, why this simple solution works. Your findings in task A-5 should prove useful.\n",
    "\n",
    "## 3.3.3 Linear regression\n",
    "\n",
    "The following table gives the training observed data on the world population in billions for five different years.\n",
    "\n",
    "| Year | Population |\n",
    "| ---- | ---------- |\n",
    "| 1960 | 3.0 |\n",
    "| 1970 | 3.7 |\n",
    "| 1975 | 4.1 |\n",
    "| 1980 | 4.5 |\n",
    "| 1985 | 4.8 |\n",
    "\n",
    "In the following, you will make a predictive model using linear regression. Regression is about finding the parameters of the models so that the error between the model and the input data is as small as possible. From the predicted model and its optimal parameters it is possible to to predict the future world population.\n",
    "\n",
    "### Task (D)\n",
    "1. The data is loaded from a text file `./inputs/data.txt` using `np.loadtxt`. The first column contains the `X` data and the second the `y` data. Plot the data as a line using Matplotlib."
   ]
  },
  {
   "cell_type": "code",
   "execution_count": null,
   "metadata": {},
   "outputs": [],
   "source": [
    "data = np.loadtxt('./inputs/data.txt', delimiter=',')\n",
    "\n",
    "X = data[:, 0] # First column\n",
    "y = data[:, 1] # Second column\n",
    "\n",
    "# Write solution here\n",
    "\n",
    "plt.plot(X,y)"
   ]
  },
  {
   "cell_type": "markdown",
   "metadata": {},
   "source": [
    "Linear regression. Least square regression line\n",
    "\n",
    "Here we are solving it through algebra.\n",
    "https://www.youtube.com/watch?v=YwZYSTQs-Hk\n",
    "\n",
    "We could solve it statisticaly as wel.\n",
    "https://www.youtube.com/playlist?list=PLIeGtxpvyG-LoKUpV0fSY8BGKIMIdmfCi\n",
    " "
   ]
  },
  {
   "cell_type": "markdown",
   "metadata": {},
   "source": [
    "As mentioned in class we find the optimal line by minimising the squarred error between the predicted values and the actual values. The squarred error is defined as\n",
    "$$\n",
    "E = \\sum_{i=1}^N (y_i-g(x_i))^2,\n",
    "$$\n",
    "where $g(x) = ax-b$ (Model/Linear Model/Our Model), \n",
    "$x_i$, $y_i$ are the inputs and targets, and $a$ and $b$ are the model parameters. The optimum is found by setting the derivative to $0$ and solving for the parameters. In matrix form, this results in the following solution\n",
    "$$\n",
    "\\mathbf{p}= (A^TA)^{-1}A^T\\mathbf{y},\n",
    "$$\n",
    "where $\\mathbf{p} = [\\mathbf{m}, b]$ and $A = \\begin{bmatrix}x_1, 1 \\\\ \\vdots \\\\ x_N, 1\\end{bmatrix}$.\n",
    "\n",
    "Y = mX + b           \n",
    "where m is slop of the line and b is intercept\n",
    "\n",
    "### Task (E)\n",
    "1. Find a least-squares solution to the data using Numpy's `np.linalg.lstsq(A, y)` function. To create `A`, use `np.ones` and `np.hstack` to stack a column of 1's onto the column of X values.\n",
    "2. Create a function `linear_model(params, X)` that takes the parameters and X as input and returns y-values as output.\n",
    "3. Plot a regression line from 1950-2000 using `linear_model` and the techniques described in the Matplotlib exercise.\n",
    "4. *(extra)* Create a function `mean_squarred_error(params, X, y)` that calculates the average error of the model. It is defined as $\\frac{1}{N}E = \\frac{1}{N}\\sum_{i=1}^N (y_i-g(x_i))^2$."
   ]
  },
  {
   "cell_type": "code",
   "execution_count": null,
   "metadata": {},
   "outputs": [],
   "source": [
    "# Write solution here\n",
    "# https://numpy.org/doc/1.18/reference/generated/numpy.linalg.lstsq.html?highlight=linalg%20lstsq#numpy.linalg.lstsq\n",
    "# TODO AA != A\n",
    "A = np.vstack([X, np.ones(len(X))]).T\n",
    "# one = np.ones(len(XX),)\n",
    "# AA = np.hstack([X, np.ones(len(X))])\n",
    "A\n"
   ]
  },
  {
   "cell_type": "code",
   "execution_count": null,
   "metadata": {},
   "outputs": [],
   "source": [
    "# slop, intercept = np.linalg.lstsq(AA, yy, rcond=None)[0] \n",
    "tup = np.linalg.lstsq(A, y, rcond=None)[0] \n",
    "\n",
    "# whenever a function returns several values, we can catch the\n",
    "# desired value with specifying the index of that value after calling the function. [0], [1], ...\n",
    "# Here the desired value [0] is itself a tuple. we can decompose that with assign it to two value namely m, c = ...\n",
    "print(\"y = {:.4} x + {:.4}\".format(tup[0], tup[1]))\n",
    "print('In other words, Slop is {} and Intercept is {} '.format(tup[0], tup[1]))"
   ]
  },
  {
   "cell_type": "code",
   "execution_count": null,
   "metadata": {},
   "outputs": [],
   "source": [
    "def linear_model(params, X):\n",
    "#     return np.multiply( params[0] , X + params[1]  ) # It probably also do X + params[1] for each X inside\n",
    "    return  params[0] * X + params[1]  \n",
    "\n",
    "# linear_model(tup, X)"
   ]
  },
  {
   "cell_type": "code",
   "execution_count": null,
   "metadata": {},
   "outputs": [],
   "source": [
    "plt.plot(XX,yy, 'rx', label='Data')\n",
    "plt.plot(XX, linear_model(tup,XX), 'b-', label='Fitted line' )\n",
    "plt.plot(X.mean(), y.mean(), 'go', label='point (mean of X, mean of y)')\n",
    "plt.legend()\n",
    "\n",
    "print('Note that the line must go through the point (mean of X = {}, mean of y = {})'.format(X.mean(), y.mean()))\n"
   ]
  },
  {
   "cell_type": "code",
   "execution_count": null,
   "metadata": {},
   "outputs": [],
   "source": [
    "def mean_squarred_error(params, X, y):\n",
    "      return np.sum(np.square(np.subtract(y, linear_model(params, X)))) / len(X)\n",
    "  \n",
    "\n",
    "mse = mean_squarred_error(params= tup, X= X, y= y)\n",
    "print(\"Error = {}\".format(mse))"
   ]
  },
  {
   "cell_type": "code",
   "execution_count": null,
   "metadata": {},
   "outputs": [],
   "source": [
    "Y_true = y\n",
    "Y_pred = linear_model(tup, X)\n",
    "\n",
    "MSE = np.square(np.subtract(Y_true,Y_pred)).mean() \n",
    "MSE2 = np.sum(np.square(np.subtract(Y_true,Y_pred))) / len(X)\n",
    "\n",
    "assert MSE == MSE2 == mse, \"NO\""
   ]
  }
 ],
 "metadata": {
  "kernelspec": {
   "display_name": "Python 3",
   "language": "python",
   "name": "python3"
  },
  "language_info": {
   "codemirror_mode": {
    "name": "ipython",
    "version": 3
   },
   "file_extension": ".py",
   "mimetype": "text/x-python",
   "name": "python",
   "nbconvert_exporter": "python",
   "pygments_lexer": "ipython3",
   "version": "3.7.6"
  }
 },
 "nbformat": 4,
 "nbformat_minor": 4
}
