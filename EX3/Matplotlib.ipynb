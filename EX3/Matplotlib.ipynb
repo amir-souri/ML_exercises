{
 "cells": [
  {
   "cell_type": "code",
   "execution_count": null,
   "metadata": {},
   "outputs": [],
   "source": [
    "import numpy as np"
   ]
  },
  {
   "cell_type": "markdown",
   "metadata": {},
   "source": [
    "# 3.1 Plotting with Matplotlib\n",
    "This exercise gives you a thorough introduction to Matplotlib, which is a library you will be using throughout the course and likely in the future as well. It is the standard for high-quality plots in Python and has a very stable API. Later, we will also introduce **Seaborn**, a library that exposes a more high-level plotting API for easy creation of certain plot types. Matplotlib supports several desktop GUI environments as well as Jupyter notebooks.\n",
    "\n",
    "We cover the following topics in this exercise:\n",
    "* Basic plotting of functions and data points.\n",
    "* Styling of plots.\n",
    "* Combining multiple plots.\n",
    "* Saving plots to disk.\n"
   ]
  },
  {
   "cell_type": "markdown",
   "metadata": {},
   "source": [
    "### 3.1.* Numpy array creation\n",
    "We start with a short detour into array creation. There are many convenience functions built into Numpy that will make your life a lot easier when creating new arrays. We the most important of them here for the sake of reference (read more about array creation [here](https://docs.scipy.org/doc/numpy-1.15.0/user/basics.creation.html))\n",
    "\n",
    "* `np.ones(size)`, `np.zeros(size)`: Create an array of size `size` with either all ones or zeros. These are extremely useful when creating masks (starting with an empty array) or arrays of constant values.\n",
    "* `np.linspace(start, stop, num)`, `np.arange(start, stop, step)`: Create 1d arrays of ranges from `start` to `stop` (inclusive) using either interpolation to create `num` elements in the case of `linspace` or using a certain `step`-size in `arange`.\n",
    "* `np.random.uniform(size)`, `np.random.normal(loc, scale, size)`: Create arrays with random elements drawn either from a uniform or normal/Gaussian distribution. For the gaussian, `loc`=$\\mu$ (mean) and `scale`=$\\sigma$ (standard deviation).\n",
    "\n",
    "Don't worry if this is a bit confusing, just learn about each function when you need it. We have included some code below for easy experimentation:"
   ]
  },
  {
   "cell_type": "code",
   "execution_count": null,
   "metadata": {},
   "outputs": [],
   "source": [
    "a_ones = np.ones((2, 2))\n",
    "a_zeros = np.zeros((2, 2))\n",
    "a_linspace = np.linspace(0, 10, 5)\n",
    "a_arange = np.arange(0, 10, 2)\n",
    "a_uniform = np.random.uniform((2, 2))\n",
    "a_normal = np.random.uniform((2, 2))\n",
    "\n",
    "print('ones:\\n', a_ones)\n",
    "print('zeros:\\n', a_zeros)\n",
    "print('linspace:\\n', a_linspace)\n",
    "print('arange:\\n', a_arange)\n",
    "print('uniform:\\n', a_uniform)\n",
    "print('normal:\\n', a_normal)"
   ]
  },
  {
   "cell_type": "markdown",
   "metadata": {},
   "source": [
    "## 3.1.1 Basics\n",
    "Back to Matplotlib! We start by importing the library:"
   ]
  },
  {
   "cell_type": "code",
   "execution_count": null,
   "metadata": {},
   "outputs": [],
   "source": [
    "import matplotlib.pyplot as plt"
   ]
  },
  {
   "cell_type": "markdown",
   "metadata": {},
   "source": [
    "Notice that we import the `pyplot` module. This module exposes a simple stateful API for creating and manipulating plots using functions. Matplotlib also supports and object oriented API but `pyplot` is much more widespread and, in our opinion, easier to work with.\n",
    "\n",
    "The plotting functions you will use the most are `plot` and `scatter`. `plot` is typically used for creating connected line segments described by x and y data. `scatter` is used for plotting individual points, e.g. from a dataset. \n",
    "\n",
    "Take a look at the following sample plot code and output:"
   ]
  },
  {
   "cell_type": "code",
   "execution_count": null,
   "metadata": {},
   "outputs": [],
   "source": [
    "x_range = np.linspace(0, 20, 50) \n",
    "y_linear = x_range\n",
    "y_quadratic = x_range**2\n",
    "# TODO Is not it an exponential function? It is a quadratic function also\n",
    "plt.plot(x_range, y_linear)\n",
    "plt.plot(x_range, y_quadratic);"
   ]
  },
  {
   "cell_type": "markdown",
   "metadata": {},
   "source": [
    "**Notes:**\n",
    "* We demonstrate a typical use of `np.linspace`: to create x-axis values for graphical plots of functions.\n",
    "* Notice how `y_quadratic` is created using elementwise exponentiation.\n",
    "\n",
    "### Task (A)\n",
    "1. Create an array of x-values in the interval $]-10, 10[$ using `np.linspace` (the number of elements isn't that important).\n",
    "2. Implement the code for the `sigmoid` function below. Use the mathematical definition of the sigmoid function as a base $S(x) = \\frac{1}{1+e^{-1}}$. \n",
    "3. Create an array of y-values by transforming the x-value array using the `sigmoid` function.\n",
    "4. Plot the result using `plt.plot`.\n",
    "\n",
    "**Hints:**\n",
    "* Numpy provides a function `np.exp(x)`=$e^x$ that makes calculation of exponentials simpler.\n",
    "* Use last week's Jupyter exercise for inspiration on how to create functions with Numpy arrays.\n",
    "* Since Jupyter automatically outputs the last value returned in a cell, the `plt.plot` and similar functions return some text describing a figure object. This is simply the return value of the function and can be hidden by appending a `;` to the last call in a cell."
   ]
  },
  {
   "cell_type": "code",
   "execution_count": null,
   "metadata": {},
   "outputs": [],
   "source": [
    "#A)\n",
    "# import math\n",
    "x_values = np.linspace(-10, 10, 100)\n",
    "\n",
    "def sigmoid(x):\n",
    "    return np.divide(1, 1 + np.exp(- x) )# return = 1 / (1 + math.exp(- x)) with math you need vectorize\n",
    "\n",
    "# Normally, if you want to apply a function that accepts a single element to every element in an array, \n",
    "# you can use np.vectorize\n",
    "# f = np.vectorize(sigmoid) \n",
    "y_values = sigmoid(x_values)\n",
    "plt.plot(x_values, y_values);"
   ]
  },
  {
   "cell_type": "markdown",
   "metadata": {},
   "source": [
    "Scatter plots work similarly but only plot the points without connections. In the example below, we create a quadratic function from the previously defined `x_range` and then add normally distributed random noise to it. You will plot the noisy points yourself.\n",
    "\n",
    "### Task (B)\n",
    "1. Plot the `y_noise` variable using the `plt.plot` function.\n",
    "2. Then change the function to `plt.scatter`. Which do you think is more useful in this situation? *Note: There is no correct answer as such.*"
   ]
  },
  {
   "cell_type": "code",
   "execution_count": null,
   "metadata": {},
   "outputs": [],
   "source": [
    "y_values = x_values**2\n",
    "\n",
    "noise = np.random.normal(scale=5, size=100) #loc=𝜇 (mean) and scale=𝜎 (standard deviation)\n",
    "y_noise = y_values + noise\n",
    "\n",
    "# Write solution here\n",
    "#B)\n",
    "plt.plot(x_values, y_values, 'r-')\n",
    "plt.scatter(x_values, y_noise, c='black', marker='+');"
   ]
  },
  {
   "cell_type": "markdown",
   "metadata": {},
   "source": [
    "## 3.1.2 Styling \n",
    "Matplotlib allows customisation of all visual aspects of the plots. We first show how individual lines or point series can be customised. Here's a short overview of the functionality:\n",
    "\n",
    "* `plt.plot` takes a third argument, `format`, which is used to adapt the styling of lines. Generally, a letter designating a color (e.g. `r`,`g`,`b`) and a symbol designating line or point style (e.g. `+`, `--`) are combined to produce a format, e.g. `r+` to create red crosses. \n",
    "* `plt.scatter` takes an argument `c` for the color (can be letter form or complete color names) and an argument `marker` for the marker style (e.g. `+`, `o`).\n",
    "\n",
    "See the documentation for [plot](https://matplotlib.org/3.1.1/api/_as_gen/matplotlib.pyplot.plot.html) and [scatter](https://matplotlib.org/3.1.1/api/_as_gen/matplotlib.pyplot.scatter.html) for additional details. We have also included a small example here:"
   ]
  },
  {
   "cell_type": "code",
   "execution_count": null,
   "metadata": {},
   "outputs": [],
   "source": [
    "plt.plot(x_values, y_values, 'r--')\n",
    "plt.scatter(x_values, y_noise, c='green', marker='d');"
   ]
  },
  {
   "cell_type": "markdown",
   "metadata": {},
   "source": [
    "### Task (C)\n",
    "1. Change the line plot (above) to a blue solid line.\n",
    "2. Change the scatter plot (above) to plusses.\n",
    "3. Remove the explicit colors from both plots (above). What is the result?\n"
   ]
  },
  {
   "cell_type": "code",
   "execution_count": null,
   "metadata": {},
   "outputs": [],
   "source": [
    "#C)\n",
    "# plt.plot(x_values, y_values, 'b-')\n",
    "# plt.scatter(x_values, y_noise, c='green', marker='+')\n",
    "plt.plot(x_values, y_values,'-')\n",
    "plt.scatter(x_values, y_noise, marker='+');"
   ]
  },
  {
   "cell_type": "markdown",
   "metadata": {},
   "source": [
    "Although it is possible to change colors manually, Matplotlib automatically assigns colors to lines and point series using an internally defined `style`. The current style can be changed permanently using `plt.style.use(style)` or inside a `with` block using `plt.style.context(style)`. A reference of built-in stylesheets can be found [here](https://matplotlib.org/gallery/style_sheets/style_sheets_reference.html). We also show a simple example:"
   ]
  },
  {
   "cell_type": "code",
   "execution_count": null,
   "metadata": {},
   "outputs": [],
   "source": [
    "# We create some normal and uniformly distributed noise. Notice how even Numpy\n",
    "# arrays can be destructured!\n",
    "xs, ys = np.random.normal(size=(2,100))  # two array whose size are both 100. their value are normaly \n",
    "xu, yu = np.random.uniform(size=(2,100)) # two array whose size are both 100. their value are uniform \n",
    "\n",
    "with plt.style.context('seaborn'):\n",
    "    plt.scatter(xs, ys, marker='+')\n",
    "    plt.scatter(xu, yu, marker='x')"
   ]
  },
  {
   "cell_type": "markdown",
   "metadata": {},
   "source": [
    "### Task (D)\n",
    "1. Find and try out another style from the reference page.\n",
    "\n",
    "You can add extra features such as a legend, title, and axis labels to plots easily. We provide an overview and a simple example. \n",
    "* `plt.legend(titles)`: Creates a legend using a list of `titles` for the names. Previously plotted elements are added in order.\n",
    "* `plt.suptitle(title)`: Set plot title using string `title`.\n",
    "* `plt.ylabel(name)`/`plt.xlabel(name)`: Set plot axis labels."
   ]
  },
  {
   "cell_type": "code",
   "execution_count": null,
   "metadata": {},
   "outputs": [],
   "source": [
    "with plt.style.context('seaborn'):\n",
    "    plt.scatter(xs, ys, marker='+')\n",
    "    plt.scatter(xu, yu, marker='x')\n",
    "    plt.legend(['normal', 'uniform'])\n",
    "    \n",
    "    plt.suptitle('Distribution comparison')\n",
    "    plt.ylabel('Y')\n",
    "    plt.xlabel('X')"
   ]
  },
  {
   "cell_type": "markdown",
   "metadata": {},
   "source": [
    "## 3.1.3 Combining plots\n",
    "Matplotlib makes it possible to combine multiple plots, a feature you will likely use often. This will introduce some more object-oriented aspects but the API luckely remains largely the same. \n",
    "\n",
    "To create a plot with multiple sub-plots, use the function `plt.subplots` (documentation [here](https://matplotlib.org/api/_as_gen/matplotlib.pyplot.subplots.html)). This is similar to `plt.figure` used in regular Python scripts for creating a new Matplotlib figure. The function returns a *figure* object and an array of *axes* objects. These are then used to fill in each subplot, add titles, and so forth. Examine the code below for a usage sample:\n",
    "### Tasks (E)\n",
    "1. Add the quadratic and noise plots to the lower right plot (`ax[1, 1]`)"
   ]
  },
  {
   "cell_type": "code",
   "execution_count": null,
   "metadata": {},
   "outputs": [],
   "source": [
    "fig, ax = plt.subplots(2, 2, figsize=(7, 5))\n",
    "\n",
    "ax[0, 0].plot(x_range, y_linear)\n",
    "ax[0, 1].plot(x_range, y_quadratic)\n",
    "ax[1, 0].scatter(xs, ys)\n",
    "ax[1, 1].plot(x_values, y_values)\n",
    "# Write solution here\n",
    "ax[0,0].set_title('Linear')\n",
    "ax[0,1].set_title('Quadratic/Exponential')\n",
    "ax[1,0].set_title('Normal')\n",
    "ax[1,1].set_title('Quadratic')\n",
    "#E)\n",
    "ax[1, 1].plot(x_range, y_quadratic, 'r-')\n",
    "ax[1, 1].plot(x_values, y_noise, 'w-')"
   ]
  },
  {
   "cell_type": "markdown",
   "metadata": {},
   "source": [
    "## 3.1.4 Saving plots\n",
    "When writing reports it is extremely useful to be able to save a Matplotlib plot. When using the GUI version of Matplotlib in regular Python scripts, it is possible to save directly from the plot GUI. It is, however, more convinient to save the output programatically. \n",
    "\n",
    "To save a plot, simply call `fig.savefig(output_path)` on a *figure* object. The object can either be obtained from a `plt.subplots` or `plt.figure` call, or using the function `plt.gcf()`. We show a few examples:"
   ]
  },
  {
   "cell_type": "code",
   "execution_count": null,
   "metadata": {},
   "outputs": [],
   "source": [
    "plt.plot(y_quadratic)\n",
    "\n",
    "plt.gcf().savefig('outputs/s.pdf')"
   ]
  }
 ],
 "metadata": {
  "kernelspec": {
   "display_name": "Python 3",
   "language": "python",
   "name": "python3"
  },
  "language_info": {
   "codemirror_mode": {
    "name": "ipython",
    "version": 3
   },
   "file_extension": ".py",
   "mimetype": "text/x-python",
   "name": "python",
   "nbconvert_exporter": "python",
   "pygments_lexer": "ipython3",
   "version": "3.7.6"
  }
 },
 "nbformat": 4,
 "nbformat_minor": 4
}
